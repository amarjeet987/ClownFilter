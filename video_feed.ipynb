{
 "cells": [
  {
   "cell_type": "code",
   "execution_count": 2,
   "metadata": {},
   "outputs": [
    {
     "name": "stderr",
     "output_type": "stream",
     "text": [
      "Using TensorFlow backend.\n"
     ]
    }
   ],
   "source": [
    "import numpy as np\n",
    "from keras.models import load_model\n",
    "import os\n",
    "import cv2\n",
    "import matplotlib.pyplot as plt"
   ]
  },
  {
   "cell_type": "code",
   "execution_count": 3,
   "metadata": {},
   "outputs": [],
   "source": [
    "# get the model\n",
    "model = load_model('model.h5')"
   ]
  },
  {
   "cell_type": "code",
   "execution_count": 9,
   "metadata": {},
   "outputs": [],
   "source": [
    "# set parameters, other than the filter, which screen / screens needs to be displayed\n",
    "\n",
    "landmark_points = False \n",
    "landmark_lines = True"
   ]
  },
  {
   "cell_type": "code",
   "execution_count": 10,
   "metadata": {},
   "outputs": [],
   "source": [
    "# predefined harcascade\n",
    "'''\n",
    "This, as well as of them are available here : https://github.com/opencv/opencv/tree/master/data/haarcascades\n",
    "\n",
    "'''\n",
    "face_cascade = cv2.CascadeClassifier('haarcascade_frontalface_default.xml')\n",
    "\n",
    "# get the filter(s)\n",
    "\n",
    "filters = {\n",
    "    \"nose\":'./nose.png'\n",
    "}\n"
   ]
  },
  {
   "cell_type": "code",
   "execution_count": 15,
   "metadata": {},
   "outputs": [],
   "source": [
    "cam = cv2.VideoCapture(0)\n",
    "while True:\n",
    "    \n",
    "    # getting the face\n",
    "    ret, img = cam.read()\n",
    "    gray = cv2.cvtColor(img, cv2.COLOR_BGR2GRAY)\n",
    "    faces = face_cascade.detectMultiScale(gray, 1.3, 5)\n",
    "    \n",
    "    for (x, y, w, h) in faces:\n",
    "        \n",
    "        image = gray[y:y+h, x:x+w]\n",
    "        #cv2.rectangle(img, (x, y), (x + w, y + h), (0,255,0), 1)\n",
    "        \n",
    "        # store the shape for later\n",
    "        shape_real = image.shape\n",
    "        \n",
    "        # Normalize\n",
    "        image_norm = image / 255\n",
    "        \n",
    "        # resize the face to fit the model\n",
    "        image_resized = cv2.resize(image_norm, (96, 96), interpolation = cv2.INTER_AREA)\n",
    "        image_backup = image_resized.copy()\n",
    "        image_resized = image_resized.reshape(1, 96, 96, 1)\n",
    "        \n",
    "        # predict\n",
    "        predictions = (model.predict(image_resized) * 48.0) + 48.0\n",
    "        \n",
    "        # For filter\n",
    "        color_img = img[y:y+h, x:x+w]\n",
    "        color_img_resized = cv2.resize(color_img, (96, 96), interpolation = cv2.INTER_AREA)\n",
    "        color_img_backup = color_img_resized.copy()\n",
    "        \n",
    "        # arrange the coordinates as tuples\n",
    "        points = []\n",
    "        for i in range(0, len(predictions[0]), 2):\n",
    "            points.append((predictions[0][i], predictions[0][i+1]))\n",
    "        \n",
    "        # plot'em    \n",
    "        # for points\n",
    "        if landmark_lines:\n",
    "            color_img_backup_points = color_img_resized.copy()\n",
    "            points_disp_lines = img.copy()\n",
    "            for point_outer in points:\n",
    "                for point_inner in points:\n",
    "                    if point_outer != point_inner:\n",
    "                        cv2.line(color_img_backup_points, point_outer, point_inner, (219,152,52), 1)\n",
    "            points_disp_lines[y:y+h,x:x+w] = cv2.resize(color_img_backup_points, shape_real, interpolation = cv2.INTER_CUBIC)\n",
    "                    \n",
    "        # for lines ( because it looks cooler )\n",
    "        if landmark_points:\n",
    "            color_img_backup_points = color_img_resized.copy()\n",
    "            points_disp_points = img.copy()\n",
    "            for point in points:\n",
    "                cv2.circle(color_img_backup_points, point, 1, (219,152,52), 1)\n",
    "            points_disp_points[y:y+h,x:x+w] = cv2.resize(color_img_backup_points, shape_real, interpolation = cv2.INTER_CUBIC)\n",
    "                    \n",
    "        # arrange the filter \n",
    "        '''\n",
    "        (points[10][0], points[10][1]) refers to the point on the nose. You can experiment with the rest of the points \n",
    "        and make more exciting filters, maybe better than SnapChat.\n",
    "        \n",
    "        '''\n",
    "        nose = cv2.imread(filters[\"nose\"], cv2.IMREAD_UNCHANGED)\n",
    "        width = int(34)\n",
    "        height = int(26)\n",
    "        filter_resized = cv2.resize(nose, (width, height), cv2.IMREAD_UNCHANGED)\n",
    "        blank_region_filter = filter_resized[:,:,:3] != 0\n",
    "        color_img_backup[int(points[10][1]) - height//2 - 3:int(points[10][1]) + height//2 - 3, \n",
    "                         int(points[10][0]) - width//2 + 2:int(points[10][0]) + width//2 + 2,:][blank_region_filter] = filter_resized[:,:,:3][blank_region_filter]\n",
    "        \n",
    "        # place it\n",
    "        img[y:y+h,x:x+w] = cv2.resize(color_img_backup, shape_real, interpolation = cv2.INTER_CUBIC)\n",
    "    \n",
    "    # window for filter\n",
    "    cv2.imshow('img', img)\n",
    "    \n",
    "    # window for lines\n",
    "    if landmark_lines:\n",
    "        cv2.imshow('landmarks_lines', points_disp_lines)\n",
    "    \n",
    "    # window for points\n",
    "    if landmark_points:\n",
    "        cv2.imshow('landmarks_points', points_disp_points)\n",
    "    k = cv2.waitKey(30) & 0xff\n",
    "    if k == 27:\n",
    "        break\n",
    "\n",
    "cam.release()\n",
    "cv2.destroyAllWindows()"
   ]
  },
  {
   "cell_type": "code",
   "execution_count": null,
   "metadata": {},
   "outputs": [],
   "source": []
  }
 ],
 "metadata": {
  "kernelspec": {
   "display_name": "Python 3",
   "language": "python",
   "name": "python3"
  },
  "language_info": {
   "codemirror_mode": {
    "name": "ipython",
    "version": 3
   },
   "file_extension": ".py",
   "mimetype": "text/x-python",
   "name": "python",
   "nbconvert_exporter": "python",
   "pygments_lexer": "ipython3",
   "version": "3.6.2"
  }
 },
 "nbformat": 4,
 "nbformat_minor": 2
}
